{
 "cells": [
  {
   "cell_type": "markdown",
   "metadata": {},
   "source": [
    "<a id='intro'></a>\n",
    "## Introduction\n",
    "\n",
    "> The tmdb-movies dataset is taken from the database website, tmdb, which catalogs movies based on a number of characteristics. You can see some of these in the columns below. The goal of this analysis is to determine what factors are associated with a movies popularity score. We'll be looking at budget, revenue, release year, and vote average. Please note that this analysis will not feature in-depth statistical analysis and should be viewed as tentative until explored at a deeper level. \n",
    "> We will explore associaton of budget and revenue and if there is an association there, do either of these more strongly associate with popularity score?\n",
    "> We will look at popularity over time. Does this increase? Does vote average also increase? \n",
    "\n"
   ]
  },
  {
   "cell_type": "code",
   "execution_count": 10,
   "metadata": {},
   "outputs": [],
   "source": [
    "#Import Libraries\n",
    "import pandas as pd\n",
    "import matplotlib as mp\n",
    "import numpy as np\n",
    "#Use magic word to keep visualizations inline. \n",
    "%matplotlib inline"
   ]
  },
  {
   "cell_type": "markdown",
   "metadata": {},
   "source": [
    "<a id='wrangling'></a>\n",
    "## Data Wrangling\n",
    "\n",
    "> **Tip**: In this section of the report, you will load in the data, check for cleanliness, and then trim and clean your dataset for analysis. Make sure that you document your steps carefully and justify your cleaning decisions.\n",
    "\n",
    "### General Properties"
   ]
  },
  {
   "cell_type": "code",
   "execution_count": 11,
   "metadata": {
    "scrolled": true
   },
   "outputs": [
    {
     "data": {
      "text/html": [
       "<div>\n",
       "<style scoped>\n",
       "    .dataframe tbody tr th:only-of-type {\n",
       "        vertical-align: middle;\n",
       "    }\n",
       "\n",
       "    .dataframe tbody tr th {\n",
       "        vertical-align: top;\n",
       "    }\n",
       "\n",
       "    .dataframe thead th {\n",
       "        text-align: right;\n",
       "    }\n",
       "</style>\n",
       "<table border=\"1\" class=\"dataframe\">\n",
       "  <thead>\n",
       "    <tr style=\"text-align: right;\">\n",
       "      <th></th>\n",
       "      <th>id</th>\n",
       "      <th>imdb_id</th>\n",
       "      <th>popularity</th>\n",
       "      <th>budget</th>\n",
       "      <th>revenue</th>\n",
       "      <th>original_title</th>\n",
       "      <th>cast</th>\n",
       "      <th>homepage</th>\n",
       "      <th>director</th>\n",
       "      <th>tagline</th>\n",
       "      <th>...</th>\n",
       "      <th>overview</th>\n",
       "      <th>runtime</th>\n",
       "      <th>genres</th>\n",
       "      <th>production_companies</th>\n",
       "      <th>release_date</th>\n",
       "      <th>vote_count</th>\n",
       "      <th>vote_average</th>\n",
       "      <th>release_year</th>\n",
       "      <th>budget_adj</th>\n",
       "      <th>revenue_adj</th>\n",
       "    </tr>\n",
       "  </thead>\n",
       "  <tbody>\n",
       "    <tr>\n",
       "      <th>0</th>\n",
       "      <td>135397</td>\n",
       "      <td>tt0369610</td>\n",
       "      <td>32.985763</td>\n",
       "      <td>150000000</td>\n",
       "      <td>1513528810</td>\n",
       "      <td>Jurassic World</td>\n",
       "      <td>Chris Pratt|Bryce Dallas Howard|Irrfan Khan|Vi...</td>\n",
       "      <td>http://www.jurassicworld.com/</td>\n",
       "      <td>Colin Trevorrow</td>\n",
       "      <td>The park is open.</td>\n",
       "      <td>...</td>\n",
       "      <td>Twenty-two years after the events of Jurassic ...</td>\n",
       "      <td>124</td>\n",
       "      <td>Action|Adventure|Science Fiction|Thriller</td>\n",
       "      <td>Universal Studios|Amblin Entertainment|Legenda...</td>\n",
       "      <td>6/9/15</td>\n",
       "      <td>5562</td>\n",
       "      <td>6.5</td>\n",
       "      <td>2015</td>\n",
       "      <td>1.379999e+08</td>\n",
       "      <td>1.392446e+09</td>\n",
       "    </tr>\n",
       "    <tr>\n",
       "      <th>1</th>\n",
       "      <td>76341</td>\n",
       "      <td>tt1392190</td>\n",
       "      <td>28.419936</td>\n",
       "      <td>150000000</td>\n",
       "      <td>378436354</td>\n",
       "      <td>Mad Max: Fury Road</td>\n",
       "      <td>Tom Hardy|Charlize Theron|Hugh Keays-Byrne|Nic...</td>\n",
       "      <td>http://www.madmaxmovie.com/</td>\n",
       "      <td>George Miller</td>\n",
       "      <td>What a Lovely Day.</td>\n",
       "      <td>...</td>\n",
       "      <td>An apocalyptic story set in the furthest reach...</td>\n",
       "      <td>120</td>\n",
       "      <td>Action|Adventure|Science Fiction|Thriller</td>\n",
       "      <td>Village Roadshow Pictures|Kennedy Miller Produ...</td>\n",
       "      <td>5/13/15</td>\n",
       "      <td>6185</td>\n",
       "      <td>7.1</td>\n",
       "      <td>2015</td>\n",
       "      <td>1.379999e+08</td>\n",
       "      <td>3.481613e+08</td>\n",
       "    </tr>\n",
       "    <tr>\n",
       "      <th>2</th>\n",
       "      <td>262500</td>\n",
       "      <td>tt2908446</td>\n",
       "      <td>13.112507</td>\n",
       "      <td>110000000</td>\n",
       "      <td>295238201</td>\n",
       "      <td>Insurgent</td>\n",
       "      <td>Shailene Woodley|Theo James|Kate Winslet|Ansel...</td>\n",
       "      <td>http://www.thedivergentseries.movie/#insurgent</td>\n",
       "      <td>Robert Schwentke</td>\n",
       "      <td>One Choice Can Destroy You</td>\n",
       "      <td>...</td>\n",
       "      <td>Beatrice Prior must confront her inner demons ...</td>\n",
       "      <td>119</td>\n",
       "      <td>Adventure|Science Fiction|Thriller</td>\n",
       "      <td>Summit Entertainment|Mandeville Films|Red Wago...</td>\n",
       "      <td>3/18/15</td>\n",
       "      <td>2480</td>\n",
       "      <td>6.3</td>\n",
       "      <td>2015</td>\n",
       "      <td>1.012000e+08</td>\n",
       "      <td>2.716190e+08</td>\n",
       "    </tr>\n",
       "    <tr>\n",
       "      <th>3</th>\n",
       "      <td>140607</td>\n",
       "      <td>tt2488496</td>\n",
       "      <td>11.173104</td>\n",
       "      <td>200000000</td>\n",
       "      <td>2068178225</td>\n",
       "      <td>Star Wars: The Force Awakens</td>\n",
       "      <td>Harrison Ford|Mark Hamill|Carrie Fisher|Adam D...</td>\n",
       "      <td>http://www.starwars.com/films/star-wars-episod...</td>\n",
       "      <td>J.J. Abrams</td>\n",
       "      <td>Every generation has a story.</td>\n",
       "      <td>...</td>\n",
       "      <td>Thirty years after defeating the Galactic Empi...</td>\n",
       "      <td>136</td>\n",
       "      <td>Action|Adventure|Science Fiction|Fantasy</td>\n",
       "      <td>Lucasfilm|Truenorth Productions|Bad Robot</td>\n",
       "      <td>12/15/15</td>\n",
       "      <td>5292</td>\n",
       "      <td>7.5</td>\n",
       "      <td>2015</td>\n",
       "      <td>1.839999e+08</td>\n",
       "      <td>1.902723e+09</td>\n",
       "    </tr>\n",
       "    <tr>\n",
       "      <th>4</th>\n",
       "      <td>168259</td>\n",
       "      <td>tt2820852</td>\n",
       "      <td>9.335014</td>\n",
       "      <td>190000000</td>\n",
       "      <td>1506249360</td>\n",
       "      <td>Furious 7</td>\n",
       "      <td>Vin Diesel|Paul Walker|Jason Statham|Michelle ...</td>\n",
       "      <td>http://www.furious7.com/</td>\n",
       "      <td>James Wan</td>\n",
       "      <td>Vengeance Hits Home</td>\n",
       "      <td>...</td>\n",
       "      <td>Deckard Shaw seeks revenge against Dominic Tor...</td>\n",
       "      <td>137</td>\n",
       "      <td>Action|Crime|Thriller</td>\n",
       "      <td>Universal Pictures|Original Film|Media Rights ...</td>\n",
       "      <td>4/1/15</td>\n",
       "      <td>2947</td>\n",
       "      <td>7.3</td>\n",
       "      <td>2015</td>\n",
       "      <td>1.747999e+08</td>\n",
       "      <td>1.385749e+09</td>\n",
       "    </tr>\n",
       "  </tbody>\n",
       "</table>\n",
       "<p>5 rows × 21 columns</p>\n",
       "</div>"
      ],
      "text/plain": [
       "       id    imdb_id  popularity     budget     revenue  \\\n",
       "0  135397  tt0369610   32.985763  150000000  1513528810   \n",
       "1   76341  tt1392190   28.419936  150000000   378436354   \n",
       "2  262500  tt2908446   13.112507  110000000   295238201   \n",
       "3  140607  tt2488496   11.173104  200000000  2068178225   \n",
       "4  168259  tt2820852    9.335014  190000000  1506249360   \n",
       "\n",
       "                 original_title  \\\n",
       "0                Jurassic World   \n",
       "1            Mad Max: Fury Road   \n",
       "2                     Insurgent   \n",
       "3  Star Wars: The Force Awakens   \n",
       "4                     Furious 7   \n",
       "\n",
       "                                                cast  \\\n",
       "0  Chris Pratt|Bryce Dallas Howard|Irrfan Khan|Vi...   \n",
       "1  Tom Hardy|Charlize Theron|Hugh Keays-Byrne|Nic...   \n",
       "2  Shailene Woodley|Theo James|Kate Winslet|Ansel...   \n",
       "3  Harrison Ford|Mark Hamill|Carrie Fisher|Adam D...   \n",
       "4  Vin Diesel|Paul Walker|Jason Statham|Michelle ...   \n",
       "\n",
       "                                            homepage          director  \\\n",
       "0                      http://www.jurassicworld.com/   Colin Trevorrow   \n",
       "1                        http://www.madmaxmovie.com/     George Miller   \n",
       "2     http://www.thedivergentseries.movie/#insurgent  Robert Schwentke   \n",
       "3  http://www.starwars.com/films/star-wars-episod...       J.J. Abrams   \n",
       "4                           http://www.furious7.com/         James Wan   \n",
       "\n",
       "                         tagline      ...       \\\n",
       "0              The park is open.      ...        \n",
       "1             What a Lovely Day.      ...        \n",
       "2     One Choice Can Destroy You      ...        \n",
       "3  Every generation has a story.      ...        \n",
       "4            Vengeance Hits Home      ...        \n",
       "\n",
       "                                            overview runtime  \\\n",
       "0  Twenty-two years after the events of Jurassic ...     124   \n",
       "1  An apocalyptic story set in the furthest reach...     120   \n",
       "2  Beatrice Prior must confront her inner demons ...     119   \n",
       "3  Thirty years after defeating the Galactic Empi...     136   \n",
       "4  Deckard Shaw seeks revenge against Dominic Tor...     137   \n",
       "\n",
       "                                      genres  \\\n",
       "0  Action|Adventure|Science Fiction|Thriller   \n",
       "1  Action|Adventure|Science Fiction|Thriller   \n",
       "2         Adventure|Science Fiction|Thriller   \n",
       "3   Action|Adventure|Science Fiction|Fantasy   \n",
       "4                      Action|Crime|Thriller   \n",
       "\n",
       "                                production_companies release_date vote_count  \\\n",
       "0  Universal Studios|Amblin Entertainment|Legenda...       6/9/15       5562   \n",
       "1  Village Roadshow Pictures|Kennedy Miller Produ...      5/13/15       6185   \n",
       "2  Summit Entertainment|Mandeville Films|Red Wago...      3/18/15       2480   \n",
       "3          Lucasfilm|Truenorth Productions|Bad Robot     12/15/15       5292   \n",
       "4  Universal Pictures|Original Film|Media Rights ...       4/1/15       2947   \n",
       "\n",
       "   vote_average  release_year    budget_adj   revenue_adj  \n",
       "0           6.5          2015  1.379999e+08  1.392446e+09  \n",
       "1           7.1          2015  1.379999e+08  3.481613e+08  \n",
       "2           6.3          2015  1.012000e+08  2.716190e+08  \n",
       "3           7.5          2015  1.839999e+08  1.902723e+09  \n",
       "4           7.3          2015  1.747999e+08  1.385749e+09  \n",
       "\n",
       "[5 rows x 21 columns]"
      ]
     },
     "execution_count": 11,
     "metadata": {},
     "output_type": "execute_result"
    }
   ],
   "source": [
    "#Load Data Set\n",
    "df = pd.read_csv('tmdb-movies.csv')\n",
    "#Make Sure Data Set Came Through\n",
    "df.head()"
   ]
  },
  {
   "cell_type": "code",
   "execution_count": 12,
   "metadata": {},
   "outputs": [
    {
     "name": "stdout",
     "output_type": "stream",
     "text": [
      "<class 'pandas.core.frame.DataFrame'>\n",
      "RangeIndex: 10866 entries, 0 to 10865\n",
      "Data columns (total 21 columns):\n",
      "id                      10866 non-null int64\n",
      "imdb_id                 10856 non-null object\n",
      "popularity              10866 non-null float64\n",
      "budget                  10866 non-null int64\n",
      "revenue                 10866 non-null int64\n",
      "original_title          10866 non-null object\n",
      "cast                    10790 non-null object\n",
      "homepage                2936 non-null object\n",
      "director                10822 non-null object\n",
      "tagline                 8042 non-null object\n",
      "keywords                9373 non-null object\n",
      "overview                10862 non-null object\n",
      "runtime                 10866 non-null int64\n",
      "genres                  10843 non-null object\n",
      "production_companies    9836 non-null object\n",
      "release_date            10866 non-null object\n",
      "vote_count              10866 non-null int64\n",
      "vote_average            10866 non-null float64\n",
      "release_year            10866 non-null int64\n",
      "budget_adj              10866 non-null float64\n",
      "revenue_adj             10866 non-null float64\n",
      "dtypes: float64(4), int64(6), object(11)\n",
      "memory usage: 1.7+ MB\n"
     ]
    }
   ],
   "source": [
    "df.info()"
   ]
  },
  {
   "cell_type": "markdown",
   "metadata": {},
   "source": [
    "When looking at the dataframe we can see that there are quite a few columns with data that we won't be investigating as well as some missing datapoints. We will clean our data by creating a subset of popularity, budget, revenue, director, release year, and vote average. After this, we will further subset the data so that only lines with all non-nulls are included in the dataframe. "
   ]
  },
  {
   "cell_type": "markdown",
   "metadata": {},
   "source": [
    "### Data Cleaning "
   ]
  },
  {
   "cell_type": "code",
   "execution_count": 13,
   "metadata": {},
   "outputs": [
    {
     "data": {
      "text/html": [
       "<div>\n",
       "<style scoped>\n",
       "    .dataframe tbody tr th:only-of-type {\n",
       "        vertical-align: middle;\n",
       "    }\n",
       "\n",
       "    .dataframe tbody tr th {\n",
       "        vertical-align: top;\n",
       "    }\n",
       "\n",
       "    .dataframe thead th {\n",
       "        text-align: right;\n",
       "    }\n",
       "</style>\n",
       "<table border=\"1\" class=\"dataframe\">\n",
       "  <thead>\n",
       "    <tr style=\"text-align: right;\">\n",
       "      <th></th>\n",
       "      <th>popularity</th>\n",
       "      <th>budget</th>\n",
       "      <th>revenue</th>\n",
       "      <th>release_year</th>\n",
       "      <th>vote_average</th>\n",
       "    </tr>\n",
       "  </thead>\n",
       "  <tbody>\n",
       "    <tr>\n",
       "      <th>0</th>\n",
       "      <td>32.985763</td>\n",
       "      <td>150000000</td>\n",
       "      <td>1513528810</td>\n",
       "      <td>2015</td>\n",
       "      <td>6.5</td>\n",
       "    </tr>\n",
       "    <tr>\n",
       "      <th>1</th>\n",
       "      <td>28.419936</td>\n",
       "      <td>150000000</td>\n",
       "      <td>378436354</td>\n",
       "      <td>2015</td>\n",
       "      <td>7.1</td>\n",
       "    </tr>\n",
       "    <tr>\n",
       "      <th>2</th>\n",
       "      <td>13.112507</td>\n",
       "      <td>110000000</td>\n",
       "      <td>295238201</td>\n",
       "      <td>2015</td>\n",
       "      <td>6.3</td>\n",
       "    </tr>\n",
       "    <tr>\n",
       "      <th>3</th>\n",
       "      <td>11.173104</td>\n",
       "      <td>200000000</td>\n",
       "      <td>2068178225</td>\n",
       "      <td>2015</td>\n",
       "      <td>7.5</td>\n",
       "    </tr>\n",
       "    <tr>\n",
       "      <th>4</th>\n",
       "      <td>9.335014</td>\n",
       "      <td>190000000</td>\n",
       "      <td>1506249360</td>\n",
       "      <td>2015</td>\n",
       "      <td>7.3</td>\n",
       "    </tr>\n",
       "  </tbody>\n",
       "</table>\n",
       "</div>"
      ],
      "text/plain": [
       "   popularity     budget     revenue  release_year  vote_average\n",
       "0   32.985763  150000000  1513528810          2015           6.5\n",
       "1   28.419936  150000000   378436354          2015           7.1\n",
       "2   13.112507  110000000   295238201          2015           6.3\n",
       "3   11.173104  200000000  2068178225          2015           7.5\n",
       "4    9.335014  190000000  1506249360          2015           7.3"
      ]
     },
     "execution_count": 13,
     "metadata": {},
     "output_type": "execute_result"
    }
   ],
   "source": [
    "df = df[['popularity', 'budget', 'revenue', 'release_year','vote_average']]\n",
    "df.head()"
   ]
  },
  {
   "cell_type": "code",
   "execution_count": 14,
   "metadata": {},
   "outputs": [
    {
     "name": "stdout",
     "output_type": "stream",
     "text": [
      "<class 'pandas.core.frame.DataFrame'>\n",
      "RangeIndex: 10866 entries, 0 to 10865\n",
      "Data columns (total 5 columns):\n",
      "popularity      10866 non-null float64\n",
      "budget          10866 non-null int64\n",
      "revenue         10866 non-null int64\n",
      "release_year    10866 non-null int64\n",
      "vote_average    10866 non-null float64\n",
      "dtypes: float64(2), int64(3)\n",
      "memory usage: 424.5 KB\n"
     ]
    }
   ],
   "source": [
    " df.info()"
   ]
  },
  {
   "cell_type": "markdown",
   "metadata": {},
   "source": [
    "After creating the subset dataframe with only the columns we are using in our analysis, df.info() was run in order to find lines with nulls. We have a complete data set that is not missing any data. "
   ]
  },
  {
   "cell_type": "code",
   "execution_count": 15,
   "metadata": {},
   "outputs": [
    {
     "data": {
      "text/html": [
       "<div>\n",
       "<style scoped>\n",
       "    .dataframe tbody tr th:only-of-type {\n",
       "        vertical-align: middle;\n",
       "    }\n",
       "\n",
       "    .dataframe tbody tr th {\n",
       "        vertical-align: top;\n",
       "    }\n",
       "\n",
       "    .dataframe thead th {\n",
       "        text-align: right;\n",
       "    }\n",
       "</style>\n",
       "<table border=\"1\" class=\"dataframe\">\n",
       "  <thead>\n",
       "    <tr style=\"text-align: right;\">\n",
       "      <th></th>\n",
       "      <th>popularity</th>\n",
       "      <th>budget</th>\n",
       "      <th>revenue</th>\n",
       "      <th>release_year</th>\n",
       "      <th>vote_average</th>\n",
       "    </tr>\n",
       "  </thead>\n",
       "  <tbody>\n",
       "    <tr>\n",
       "      <th>count</th>\n",
       "      <td>10866.000000</td>\n",
       "      <td>1.086600e+04</td>\n",
       "      <td>1.086600e+04</td>\n",
       "      <td>10866.000000</td>\n",
       "      <td>10866.000000</td>\n",
       "    </tr>\n",
       "    <tr>\n",
       "      <th>mean</th>\n",
       "      <td>0.646441</td>\n",
       "      <td>1.462570e+07</td>\n",
       "      <td>3.982332e+07</td>\n",
       "      <td>2001.322658</td>\n",
       "      <td>5.974922</td>\n",
       "    </tr>\n",
       "    <tr>\n",
       "      <th>std</th>\n",
       "      <td>1.000185</td>\n",
       "      <td>3.091321e+07</td>\n",
       "      <td>1.170035e+08</td>\n",
       "      <td>12.812941</td>\n",
       "      <td>0.935142</td>\n",
       "    </tr>\n",
       "    <tr>\n",
       "      <th>min</th>\n",
       "      <td>0.000065</td>\n",
       "      <td>0.000000e+00</td>\n",
       "      <td>0.000000e+00</td>\n",
       "      <td>1960.000000</td>\n",
       "      <td>1.500000</td>\n",
       "    </tr>\n",
       "    <tr>\n",
       "      <th>25%</th>\n",
       "      <td>0.207583</td>\n",
       "      <td>0.000000e+00</td>\n",
       "      <td>0.000000e+00</td>\n",
       "      <td>1995.000000</td>\n",
       "      <td>5.400000</td>\n",
       "    </tr>\n",
       "    <tr>\n",
       "      <th>50%</th>\n",
       "      <td>0.383856</td>\n",
       "      <td>0.000000e+00</td>\n",
       "      <td>0.000000e+00</td>\n",
       "      <td>2006.000000</td>\n",
       "      <td>6.000000</td>\n",
       "    </tr>\n",
       "    <tr>\n",
       "      <th>75%</th>\n",
       "      <td>0.713817</td>\n",
       "      <td>1.500000e+07</td>\n",
       "      <td>2.400000e+07</td>\n",
       "      <td>2011.000000</td>\n",
       "      <td>6.600000</td>\n",
       "    </tr>\n",
       "    <tr>\n",
       "      <th>max</th>\n",
       "      <td>32.985763</td>\n",
       "      <td>4.250000e+08</td>\n",
       "      <td>2.781506e+09</td>\n",
       "      <td>2015.000000</td>\n",
       "      <td>9.200000</td>\n",
       "    </tr>\n",
       "  </tbody>\n",
       "</table>\n",
       "</div>"
      ],
      "text/plain": [
       "         popularity        budget       revenue  release_year  vote_average\n",
       "count  10866.000000  1.086600e+04  1.086600e+04  10866.000000  10866.000000\n",
       "mean       0.646441  1.462570e+07  3.982332e+07   2001.322658      5.974922\n",
       "std        1.000185  3.091321e+07  1.170035e+08     12.812941      0.935142\n",
       "min        0.000065  0.000000e+00  0.000000e+00   1960.000000      1.500000\n",
       "25%        0.207583  0.000000e+00  0.000000e+00   1995.000000      5.400000\n",
       "50%        0.383856  0.000000e+00  0.000000e+00   2006.000000      6.000000\n",
       "75%        0.713817  1.500000e+07  2.400000e+07   2011.000000      6.600000\n",
       "max       32.985763  4.250000e+08  2.781506e+09   2015.000000      9.200000"
      ]
     },
     "execution_count": 15,
     "metadata": {},
     "output_type": "execute_result"
    }
   ],
   "source": [
    "df.describe()"
   ]
  },
  {
   "cell_type": "code",
   "execution_count": 34,
   "metadata": {},
   "outputs": [
    {
     "data": {
      "text/html": [
       "<div>\n",
       "<style scoped>\n",
       "    .dataframe tbody tr th:only-of-type {\n",
       "        vertical-align: middle;\n",
       "    }\n",
       "\n",
       "    .dataframe tbody tr th {\n",
       "        vertical-align: top;\n",
       "    }\n",
       "\n",
       "    .dataframe thead th {\n",
       "        text-align: right;\n",
       "    }\n",
       "</style>\n",
       "<table border=\"1\" class=\"dataframe\">\n",
       "  <thead>\n",
       "    <tr style=\"text-align: right;\">\n",
       "      <th></th>\n",
       "      <th>popularity</th>\n",
       "      <th>budget</th>\n",
       "      <th>revenue</th>\n",
       "      <th>release_year</th>\n",
       "      <th>vote_average</th>\n",
       "    </tr>\n",
       "  </thead>\n",
       "  <tbody>\n",
       "    <tr>\n",
       "      <th>count</th>\n",
       "      <td>3668.000000</td>\n",
       "      <td>3.668000e+03</td>\n",
       "      <td>3.668000e+03</td>\n",
       "      <td>3668.000000</td>\n",
       "      <td>3668.000000</td>\n",
       "    </tr>\n",
       "    <tr>\n",
       "      <th>mean</th>\n",
       "      <td>0.973516</td>\n",
       "      <td>3.424959e+07</td>\n",
       "      <td>8.916398e+07</td>\n",
       "      <td>2000.970011</td>\n",
       "      <td>6.129089</td>\n",
       "    </tr>\n",
       "    <tr>\n",
       "      <th>std</th>\n",
       "      <td>0.722589</td>\n",
       "      <td>3.699360e+07</td>\n",
       "      <td>1.269146e+08</td>\n",
       "      <td>11.278253</td>\n",
       "      <td>0.772228</td>\n",
       "    </tr>\n",
       "    <tr>\n",
       "      <th>min</th>\n",
       "      <td>0.001117</td>\n",
       "      <td>1.130000e+02</td>\n",
       "      <td>2.000000e+00</td>\n",
       "      <td>1960.000000</td>\n",
       "      <td>3.300000</td>\n",
       "    </tr>\n",
       "    <tr>\n",
       "      <th>25%</th>\n",
       "      <td>0.451484</td>\n",
       "      <td>1.000000e+07</td>\n",
       "      <td>1.310825e+07</td>\n",
       "      <td>1995.000000</td>\n",
       "      <td>5.600000</td>\n",
       "    </tr>\n",
       "    <tr>\n",
       "      <th>50%</th>\n",
       "      <td>0.774668</td>\n",
       "      <td>2.200000e+07</td>\n",
       "      <td>4.169099e+07</td>\n",
       "      <td>2004.000000</td>\n",
       "      <td>6.200000</td>\n",
       "    </tr>\n",
       "    <tr>\n",
       "      <th>75%</th>\n",
       "      <td>1.277945</td>\n",
       "      <td>4.600000e+07</td>\n",
       "      <td>1.139764e+08</td>\n",
       "      <td>2010.000000</td>\n",
       "      <td>6.700000</td>\n",
       "    </tr>\n",
       "    <tr>\n",
       "      <th>max</th>\n",
       "      <td>3.644541</td>\n",
       "      <td>4.250000e+08</td>\n",
       "      <td>1.123747e+09</td>\n",
       "      <td>2015.000000</td>\n",
       "      <td>8.400000</td>\n",
       "    </tr>\n",
       "  </tbody>\n",
       "</table>\n",
       "</div>"
      ],
      "text/plain": [
       "        popularity        budget       revenue  release_year  vote_average\n",
       "count  3668.000000  3.668000e+03  3.668000e+03   3668.000000   3668.000000\n",
       "mean      0.973516  3.424959e+07  8.916398e+07   2000.970011      6.129089\n",
       "std       0.722589  3.699360e+07  1.269146e+08     11.278253      0.772228\n",
       "min       0.001117  1.130000e+02  2.000000e+00   1960.000000      3.300000\n",
       "25%       0.451484  1.000000e+07  1.310825e+07   1995.000000      5.600000\n",
       "50%       0.774668  2.200000e+07  4.169099e+07   2004.000000      6.200000\n",
       "75%       1.277945  4.600000e+07  1.139764e+08   2010.000000      6.700000\n",
       "max       3.644541  4.250000e+08  1.123747e+09   2015.000000      8.400000"
      ]
     },
     "execution_count": 34,
     "metadata": {},
     "output_type": "execute_result"
    }
   ],
   "source": [
    "df = df[df['budget']>0]\n",
    "df = df[df['revenue']>0]\n",
    "df.describe()"
   ]
  },
  {
   "cell_type": "code",
   "execution_count": 35,
   "metadata": {},
   "outputs": [
    {
     "name": "stdout",
     "output_type": "stream",
     "text": [
      "    release_year   budget\n",
      "0           1960   806948\n",
      "1           1961   200000\n",
      "2           1962   500000\n",
      "3           1963  2500000\n",
      "4           1964   500000\n",
      "5           1965  5600000\n",
      "6           1966  3000000\n",
      "7           1967  2000000\n",
      "8           1968   950000\n",
      "9           1969  3600000\n",
      "10          1970  2200000\n",
      "11          1971   725000\n",
      "12          1972    12000\n",
      "13          1973   500000\n",
      "14          1974    85000\n",
      "15          1975   400000\n",
      "16          1976  1100000\n",
      "17          1977    10000\n",
      "18          1978   300000\n",
      "19          1979   300000\n",
      "20          1980   550000\n",
      "21          1981   350000\n",
      "22          1982  1000000\n",
      "23          1983   425000\n",
      "24          1984   800000\n",
      "25          1985      114\n",
      "26          1986      113\n",
      "27          1987   250000\n",
      "28          1988  1200000\n",
      "29          1989   500000\n",
      "30          1990   500000\n",
      "31          1991  6000000\n",
      "32          1992   220000\n",
      "33          1993   900000\n",
      "34          1994    27000\n",
      "35          1995   500000\n",
      "36          1996   200000\n",
      "37          1997   250000\n",
      "38          1998    60000\n",
      "39          1999    25000\n",
      "40          2000  1000000\n",
      "41          2001   100000\n",
      "42          2002    40000\n",
      "43          2003   500000\n",
      "44          2004     7000\n",
      "45          2005   169000\n",
      "46          2006    79000\n",
      "47          2007     6000\n",
      "48          2008   200000\n",
      "49          2009    31192\n",
      "50          2010    30000\n",
      "51          2011     8000\n",
      "52          2012   100000\n",
      "53          2013   100000\n",
      "54          2014   200000\n",
      "55          2015   100000\n"
     ]
    }
   ],
   "source": [
    "grouped = df.groupby(['release_year'], as_index = False)[['budget']].min()\n",
    "print(grouped)"
   ]
  },
  {
   "cell_type": "markdown",
   "metadata": {},
   "source": [
    "Removed any budgets or revenue equaling 0 (which may indicate unknowns). Anything greater than 0 was left as this may be a known variable."
   ]
  },
  {
   "cell_type": "markdown",
   "metadata": {},
   "source": [
    "When we look at popularity, there are values outside 3 standard deviations of the mean. This indicates outliers. We will get exact outlier ranges next."
   ]
  },
  {
   "cell_type": "code",
   "execution_count": 17,
   "metadata": {},
   "outputs": [
    {
     "name": "stdout",
     "output_type": "stream",
     "text": [
      "3.6469960000000006\n",
      "107365330.0\n",
      "390833820.0\n",
      "8.780348\n",
      "-2.354114\n",
      "-78113930.0\n",
      "-311187180.0\n",
      "3.169496\n"
     ]
    }
   ],
   "source": [
    "def UpperThreeStandards (mean, std):\n",
    "    outlierBound = float(mean+(3*std))\n",
    "    print(outlierBound)\n",
    "    return;\n",
    "\n",
    "popOutlierUpper = UpperThreeStandards(.646441,1.000185)\n",
    "budgetOutlierUpper = UpperThreeStandards(14625700,30913210)\n",
    "revenueOutlierUpper = UpperThreeStandards(39823320,117003500)\n",
    "voteAvgOutlierUpper = UpperThreeStandards(5.974922,0.935142)\n",
    "\n",
    "def LowerThreeStandards (mean, std):\n",
    "    outlierBound = float(mean-(3*std))\n",
    "    print(outlierBound)\n",
    "    return;\n",
    "\n",
    "popOutlierLower = LowerThreeStandards(.646441,1.000185)\n",
    "budgetOutlierLower = LowerThreeStandards(14625700,30913210)\n",
    "revenueOutlierLower = LowerThreeStandards(39823320,117003500)\n",
    "voteAvgOutlierLower = LowerThreeStandards(5.974922,0.935142)\n"
   ]
  },
  {
   "cell_type": "markdown",
   "metadata": {},
   "source": [
    "I created two functions. One that that would tell me the upper bound for outliers and one that would tell me the lower bound. These will now be used to remove outliers. "
   ]
  },
  {
   "cell_type": "code",
   "execution_count": 18,
   "metadata": {
    "scrolled": true
   },
   "outputs": [
    {
     "data": {
      "text/html": [
       "<div>\n",
       "<style scoped>\n",
       "    .dataframe tbody tr th:only-of-type {\n",
       "        vertical-align: middle;\n",
       "    }\n",
       "\n",
       "    .dataframe tbody tr th {\n",
       "        vertical-align: top;\n",
       "    }\n",
       "\n",
       "    .dataframe thead th {\n",
       "        text-align: right;\n",
       "    }\n",
       "</style>\n",
       "<table border=\"1\" class=\"dataframe\">\n",
       "  <thead>\n",
       "    <tr style=\"text-align: right;\">\n",
       "      <th></th>\n",
       "      <th>popularity</th>\n",
       "      <th>budget</th>\n",
       "      <th>revenue</th>\n",
       "      <th>release_year</th>\n",
       "      <th>vote_average</th>\n",
       "    </tr>\n",
       "  </thead>\n",
       "  <tbody>\n",
       "    <tr>\n",
       "      <th>count</th>\n",
       "      <td>3855.000000</td>\n",
       "      <td>3.855000e+03</td>\n",
       "      <td>3.855000e+03</td>\n",
       "      <td>3855.000000</td>\n",
       "      <td>3855.00000</td>\n",
       "    </tr>\n",
       "    <tr>\n",
       "      <th>mean</th>\n",
       "      <td>1.191400</td>\n",
       "      <td>3.720183e+07</td>\n",
       "      <td>1.076589e+08</td>\n",
       "      <td>2001.263294</td>\n",
       "      <td>6.16786</td>\n",
       "    </tr>\n",
       "    <tr>\n",
       "      <th>std</th>\n",
       "      <td>1.475002</td>\n",
       "      <td>4.220291e+07</td>\n",
       "      <td>1.765248e+08</td>\n",
       "      <td>11.281989</td>\n",
       "      <td>0.79504</td>\n",
       "    </tr>\n",
       "    <tr>\n",
       "      <th>min</th>\n",
       "      <td>0.001117</td>\n",
       "      <td>1.000000e+00</td>\n",
       "      <td>2.000000e+00</td>\n",
       "      <td>1960.000000</td>\n",
       "      <td>2.20000</td>\n",
       "    </tr>\n",
       "    <tr>\n",
       "      <th>25%</th>\n",
       "      <td>0.462448</td>\n",
       "      <td>1.000000e+07</td>\n",
       "      <td>1.357645e+07</td>\n",
       "      <td>1995.000000</td>\n",
       "      <td>5.70000</td>\n",
       "    </tr>\n",
       "    <tr>\n",
       "      <th>50%</th>\n",
       "      <td>0.797298</td>\n",
       "      <td>2.400000e+07</td>\n",
       "      <td>4.479322e+07</td>\n",
       "      <td>2004.000000</td>\n",
       "      <td>6.20000</td>\n",
       "    </tr>\n",
       "    <tr>\n",
       "      <th>75%</th>\n",
       "      <td>1.368245</td>\n",
       "      <td>5.000000e+07</td>\n",
       "      <td>1.241530e+08</td>\n",
       "      <td>2010.000000</td>\n",
       "      <td>6.70000</td>\n",
       "    </tr>\n",
       "    <tr>\n",
       "      <th>max</th>\n",
       "      <td>32.985763</td>\n",
       "      <td>4.250000e+08</td>\n",
       "      <td>2.781506e+09</td>\n",
       "      <td>2015.000000</td>\n",
       "      <td>8.40000</td>\n",
       "    </tr>\n",
       "  </tbody>\n",
       "</table>\n",
       "</div>"
      ],
      "text/plain": [
       "        popularity        budget       revenue  release_year  vote_average\n",
       "count  3855.000000  3.855000e+03  3.855000e+03   3855.000000    3855.00000\n",
       "mean      1.191400  3.720183e+07  1.076589e+08   2001.263294       6.16786\n",
       "std       1.475002  4.220291e+07  1.765248e+08     11.281989       0.79504\n",
       "min       0.001117  1.000000e+00  2.000000e+00   1960.000000       2.20000\n",
       "25%       0.462448  1.000000e+07  1.357645e+07   1995.000000       5.70000\n",
       "50%       0.797298  2.400000e+07  4.479322e+07   2004.000000       6.20000\n",
       "75%       1.368245  5.000000e+07  1.241530e+08   2010.000000       6.70000\n",
       "max      32.985763  4.250000e+08  2.781506e+09   2015.000000       8.40000"
      ]
     },
     "execution_count": 18,
     "metadata": {},
     "output_type": "execute_result"
    }
   ],
   "source": [
    "df.describe()"
   ]
  },
  {
   "cell_type": "markdown",
   "metadata": {},
   "source": [
    "Here we can see that popularity has some upper outliers, vote_average has some lower and upper outliers. Now we remove the data lines with outliers. "
   ]
  },
  {
   "cell_type": "code",
   "execution_count": 19,
   "metadata": {},
   "outputs": [
    {
     "data": {
      "text/html": [
       "<div>\n",
       "<style scoped>\n",
       "    .dataframe tbody tr th:only-of-type {\n",
       "        vertical-align: middle;\n",
       "    }\n",
       "\n",
       "    .dataframe tbody tr th {\n",
       "        vertical-align: top;\n",
       "    }\n",
       "\n",
       "    .dataframe thead th {\n",
       "        text-align: right;\n",
       "    }\n",
       "</style>\n",
       "<table border=\"1\" class=\"dataframe\">\n",
       "  <thead>\n",
       "    <tr style=\"text-align: right;\">\n",
       "      <th></th>\n",
       "      <th>popularity</th>\n",
       "      <th>budget</th>\n",
       "      <th>revenue</th>\n",
       "      <th>release_year</th>\n",
       "      <th>vote_average</th>\n",
       "    </tr>\n",
       "  </thead>\n",
       "  <tbody>\n",
       "    <tr>\n",
       "      <th>count</th>\n",
       "      <td>3688.000000</td>\n",
       "      <td>3.688000e+03</td>\n",
       "      <td>3.688000e+03</td>\n",
       "      <td>3688.000000</td>\n",
       "      <td>3688.000000</td>\n",
       "    </tr>\n",
       "    <tr>\n",
       "      <th>mean</th>\n",
       "      <td>0.970529</td>\n",
       "      <td>3.406386e+07</td>\n",
       "      <td>8.868113e+07</td>\n",
       "      <td>2000.967191</td>\n",
       "      <td>6.127928</td>\n",
       "    </tr>\n",
       "    <tr>\n",
       "      <th>std</th>\n",
       "      <td>0.722098</td>\n",
       "      <td>3.697880e+07</td>\n",
       "      <td>1.267388e+08</td>\n",
       "      <td>11.274096</td>\n",
       "      <td>0.772272</td>\n",
       "    </tr>\n",
       "    <tr>\n",
       "      <th>min</th>\n",
       "      <td>0.001117</td>\n",
       "      <td>1.000000e+00</td>\n",
       "      <td>2.000000e+00</td>\n",
       "      <td>1960.000000</td>\n",
       "      <td>3.300000</td>\n",
       "    </tr>\n",
       "    <tr>\n",
       "      <th>25%</th>\n",
       "      <td>0.449456</td>\n",
       "      <td>9.000000e+06</td>\n",
       "      <td>1.282086e+07</td>\n",
       "      <td>1995.000000</td>\n",
       "      <td>5.600000</td>\n",
       "    </tr>\n",
       "    <tr>\n",
       "      <th>50%</th>\n",
       "      <td>0.773303</td>\n",
       "      <td>2.200000e+07</td>\n",
       "      <td>4.139384e+07</td>\n",
       "      <td>2004.000000</td>\n",
       "      <td>6.200000</td>\n",
       "    </tr>\n",
       "    <tr>\n",
       "      <th>75%</th>\n",
       "      <td>1.273618</td>\n",
       "      <td>4.500000e+07</td>\n",
       "      <td>1.132875e+08</td>\n",
       "      <td>2010.000000</td>\n",
       "      <td>6.700000</td>\n",
       "    </tr>\n",
       "    <tr>\n",
       "      <th>max</th>\n",
       "      <td>3.644541</td>\n",
       "      <td>4.250000e+08</td>\n",
       "      <td>1.123747e+09</td>\n",
       "      <td>2015.000000</td>\n",
       "      <td>8.400000</td>\n",
       "    </tr>\n",
       "  </tbody>\n",
       "</table>\n",
       "</div>"
      ],
      "text/plain": [
       "        popularity        budget       revenue  release_year  vote_average\n",
       "count  3688.000000  3.688000e+03  3.688000e+03   3688.000000   3688.000000\n",
       "mean      0.970529  3.406386e+07  8.868113e+07   2000.967191      6.127928\n",
       "std       0.722098  3.697880e+07  1.267388e+08     11.274096      0.772272\n",
       "min       0.001117  1.000000e+00  2.000000e+00   1960.000000      3.300000\n",
       "25%       0.449456  9.000000e+06  1.282086e+07   1995.000000      5.600000\n",
       "50%       0.773303  2.200000e+07  4.139384e+07   2004.000000      6.200000\n",
       "75%       1.273618  4.500000e+07  1.132875e+08   2010.000000      6.700000\n",
       "max       3.644541  4.250000e+08  1.123747e+09   2015.000000      8.400000"
      ]
     },
     "execution_count": 19,
     "metadata": {},
     "output_type": "execute_result"
    }
   ],
   "source": [
    "df = df[df['popularity']<3.6469960000000006]\n",
    "df = df[df['vote_average']<8.780348]\n",
    "df = df[df['vote_average']>3.169496]\n",
    "\n",
    "df.describe()"
   ]
  },
  {
   "cell_type": "markdown",
   "metadata": {},
   "source": [
    "This is the dataframe we will be using. There are no nulls and 6 columns of data and no outliers. "
   ]
  },
  {
   "cell_type": "markdown",
   "metadata": {},
   "source": [
    "<a id='eda'></a>\n",
    "## Exploratory Data Analysis\n",
    "\n",
    "### Associations between buget, revenue, and popularity. \n",
    "> We will explore associaton of budget and revenue and if there is an association there, do either of these more strongly associate with popularity score?\n"
   ]
  },
  {
   "cell_type": "code",
   "execution_count": 20,
   "metadata": {},
   "outputs": [
    {
     "data": {
      "text/plain": [
       "[Text(0,0.5,'Frequency'),\n",
       " Text(0.5,0,'Popularity'),\n",
       " Text(0.5,1,'Popularity Frequency')]"
      ]
     },
     "execution_count": 20,
     "metadata": {},
     "output_type": "execute_result"
    },
    {
     "data": {
      "image/png": "[encoded data removed]",
      "text/plain": [
       "<Figure size 432x288 with 1 Axes>"
      ]
     },
     "metadata": {
      "needs_background": "light"
     },
     "output_type": "display_data"
    }
   ],
   "source": [
    "hist = df['popularity'].hist()\n",
    "hist.set(xlabel=\"Popularity\", ylabel=\"Frequency\", title= \"Popularity Frequency\")"
   ]
  },
  {
   "cell_type": "markdown",
   "metadata": {},
   "source": [
    "When looking at the popularity histogram, we can see that it is heavily skewed to the right. This indicates that I may want to check for outliers and look at the descriptive statistics for this column. When looking at the imdb website, I can see that there is an 'infinite' popularity number and so there aren't any true outliers to exclude. "
   ]
  },
  {
   "cell_type": "code",
   "execution_count": 21,
   "metadata": {},
   "outputs": [
    {
     "data": {
      "text/html": [
       "<div>\n",
       "<style scoped>\n",
       "    .dataframe tbody tr th:only-of-type {\n",
       "        vertical-align: middle;\n",
       "    }\n",
       "\n",
       "    .dataframe tbody tr th {\n",
       "        vertical-align: top;\n",
       "    }\n",
       "\n",
       "    .dataframe thead th {\n",
       "        text-align: right;\n",
       "    }\n",
       "</style>\n",
       "<table border=\"1\" class=\"dataframe\">\n",
       "  <thead>\n",
       "    <tr style=\"text-align: right;\">\n",
       "      <th></th>\n",
       "      <th>popularity</th>\n",
       "      <th>budget</th>\n",
       "      <th>revenue</th>\n",
       "      <th>release_year</th>\n",
       "      <th>vote_average</th>\n",
       "    </tr>\n",
       "  </thead>\n",
       "  <tbody>\n",
       "    <tr>\n",
       "      <th>count</th>\n",
       "      <td>3688.000000</td>\n",
       "      <td>3.688000e+03</td>\n",
       "      <td>3.688000e+03</td>\n",
       "      <td>3688.000000</td>\n",
       "      <td>3688.000000</td>\n",
       "    </tr>\n",
       "    <tr>\n",
       "      <th>mean</th>\n",
       "      <td>0.970529</td>\n",
       "      <td>3.406386e+07</td>\n",
       "      <td>8.868113e+07</td>\n",
       "      <td>2000.967191</td>\n",
       "      <td>6.127928</td>\n",
       "    </tr>\n",
       "    <tr>\n",
       "      <th>std</th>\n",
       "      <td>0.722098</td>\n",
       "      <td>3.697880e+07</td>\n",
       "      <td>1.267388e+08</td>\n",
       "      <td>11.274096</td>\n",
       "      <td>0.772272</td>\n",
       "    </tr>\n",
       "    <tr>\n",
       "      <th>min</th>\n",
       "      <td>0.001117</td>\n",
       "      <td>1.000000e+00</td>\n",
       "      <td>2.000000e+00</td>\n",
       "      <td>1960.000000</td>\n",
       "      <td>3.300000</td>\n",
       "    </tr>\n",
       "    <tr>\n",
       "      <th>25%</th>\n",
       "      <td>0.449456</td>\n",
       "      <td>9.000000e+06</td>\n",
       "      <td>1.282086e+07</td>\n",
       "      <td>1995.000000</td>\n",
       "      <td>5.600000</td>\n",
       "    </tr>\n",
       "    <tr>\n",
       "      <th>50%</th>\n",
       "      <td>0.773303</td>\n",
       "      <td>2.200000e+07</td>\n",
       "      <td>4.139384e+07</td>\n",
       "      <td>2004.000000</td>\n",
       "      <td>6.200000</td>\n",
       "    </tr>\n",
       "    <tr>\n",
       "      <th>75%</th>\n",
       "      <td>1.273618</td>\n",
       "      <td>4.500000e+07</td>\n",
       "      <td>1.132875e+08</td>\n",
       "      <td>2010.000000</td>\n",
       "      <td>6.700000</td>\n",
       "    </tr>\n",
       "    <tr>\n",
       "      <th>max</th>\n",
       "      <td>3.644541</td>\n",
       "      <td>4.250000e+08</td>\n",
       "      <td>1.123747e+09</td>\n",
       "      <td>2015.000000</td>\n",
       "      <td>8.400000</td>\n",
       "    </tr>\n",
       "  </tbody>\n",
       "</table>\n",
       "</div>"
      ],
      "text/plain": [
       "        popularity        budget       revenue  release_year  vote_average\n",
       "count  3688.000000  3.688000e+03  3.688000e+03   3688.000000   3688.000000\n",
       "mean      0.970529  3.406386e+07  8.868113e+07   2000.967191      6.127928\n",
       "std       0.722098  3.697880e+07  1.267388e+08     11.274096      0.772272\n",
       "min       0.001117  1.000000e+00  2.000000e+00   1960.000000      3.300000\n",
       "25%       0.449456  9.000000e+06  1.282086e+07   1995.000000      5.600000\n",
       "50%       0.773303  2.200000e+07  4.139384e+07   2004.000000      6.200000\n",
       "75%       1.273618  4.500000e+07  1.132875e+08   2010.000000      6.700000\n",
       "max       3.644541  4.250000e+08  1.123747e+09   2015.000000      8.400000"
      ]
     },
     "execution_count": 21,
     "metadata": {},
     "output_type": "execute_result"
    }
   ],
   "source": [
    "df.describe()"
   ]
  },
  {
   "cell_type": "markdown",
   "metadata": {},
   "source": [
    "Looking at the popularity statistic, I could exclude the any popularity over 3 standard deviations over the mean. However, because this lesson hasn't yet gotten to those types of statistics, I will leave it. "
   ]
  },
  {
   "cell_type": "code",
   "execution_count": 22,
   "metadata": {},
   "outputs": [
    {
     "data": {
      "image/png": "[encoded data removed]",
      "text/plain": [
       "<Figure size 432x288 with 25 Axes>"
      ]
     },
     "metadata": {
      "needs_background": "light"
     },
     "output_type": "display_data"
    }
   ],
   "source": [
    " pd.plotting.scatter_matrix(df);"
   ]
  },
  {
   "cell_type": "code",
   "execution_count": 23,
   "metadata": {},
   "outputs": [
    {
     "data": {
      "text/plain": [
       "[Text(0,0.5,'Frequency'), Text(0.5,0,'Budget'), Text(0.5,1,'Budget Frequency')]"
      ]
     },
     "execution_count": 23,
     "metadata": {},
     "output_type": "execute_result"
    },
    {
     "data": {
      "image/png": "[encoded data removed]",
      "text/plain": [
       "<Figure size 432x288 with 1 Axes>"
      ]
     },
     "metadata": {
      "needs_background": "light"
     },
     "output_type": "display_data"
    }
   ],
   "source": [
    "hist = df['budget'].hist()\n",
    "hist.set(xlabel=\"Budget\", ylabel=\"Frequency\", title= \"Budget Frequency\")"
   ]
  },
  {
   "cell_type": "code",
   "execution_count": 24,
   "metadata": {},
   "outputs": [
    {
     "data": {
      "text/plain": [
       "[Text(0,0.5,'Frequency'),\n",
       " Text(0.5,0,'Revenue'),\n",
       " Text(0.5,1,'Revenue Frequency')]"
      ]
     },
     "execution_count": 24,
     "metadata": {},
     "output_type": "execute_result"
    },
    {
     "data": {
      "image/png": "[encoded data removed]",
      "text/plain": [
       "<Figure size 432x288 with 1 Axes>"
      ]
     },
     "metadata": {
      "needs_background": "light"
     },
     "output_type": "display_data"
    }
   ],
   "source": [
    "hist = df['revenue'].hist()\n",
    "hist.set(xlabel=\"Revenue\", ylabel=\"Frequency\", title= \"Revenue Frequency\")"
   ]
  },
  {
   "cell_type": "markdown",
   "metadata": {},
   "source": [
    "Looking at the distribution of the three columns, popularity, revenue, and budget - we can see that they are distributed in similar manners. Next we'll look at the association between revenue and budget as well as the two associations with popularity. "
   ]
  },
  {
   "cell_type": "markdown",
   "metadata": {},
   "source": [
    "In our scatter matrix above, we can see that revenue and budget have a positive correlation though not as strong when budget or revenue are in the higher realms. \n",
    "\n",
    "We can also look at the correlation scatter plots between budget and popularity and revenue and popularity. It appears that budget has a greater positive association with popularity (wider on the y axis and narrower on the x axis) than revenue does with popularity (wider on the x axis). \n",
    "\n",
    "To confirm the association between budget, revenue, and poularity we'll want to look at the correlation coefficients."
   ]
  },
  {
   "cell_type": "code",
   "execution_count": 25,
   "metadata": {},
   "outputs": [
    {
     "data": {
      "text/html": [
       "<div>\n",
       "<style scoped>\n",
       "    .dataframe tbody tr th:only-of-type {\n",
       "        vertical-align: middle;\n",
       "    }\n",
       "\n",
       "    .dataframe tbody tr th {\n",
       "        vertical-align: top;\n",
       "    }\n",
       "\n",
       "    .dataframe thead th {\n",
       "        text-align: right;\n",
       "    }\n",
       "</style>\n",
       "<table border=\"1\" class=\"dataframe\">\n",
       "  <thead>\n",
       "    <tr style=\"text-align: right;\">\n",
       "      <th></th>\n",
       "      <th>popularity</th>\n",
       "      <th>budget</th>\n",
       "      <th>revenue</th>\n",
       "      <th>release_year</th>\n",
       "      <th>vote_average</th>\n",
       "    </tr>\n",
       "  </thead>\n",
       "  <tbody>\n",
       "    <tr>\n",
       "      <th>popularity</th>\n",
       "      <td>1.000000</td>\n",
       "      <td>0.423575</td>\n",
       "      <td>0.569654</td>\n",
       "      <td>0.161443</td>\n",
       "      <td>0.295601</td>\n",
       "    </tr>\n",
       "    <tr>\n",
       "      <th>budget</th>\n",
       "      <td>0.423575</td>\n",
       "      <td>1.000000</td>\n",
       "      <td>0.644670</td>\n",
       "      <td>0.238407</td>\n",
       "      <td>-0.057118</td>\n",
       "    </tr>\n",
       "    <tr>\n",
       "      <th>revenue</th>\n",
       "      <td>0.569654</td>\n",
       "      <td>0.644670</td>\n",
       "      <td>1.000000</td>\n",
       "      <td>0.098915</td>\n",
       "      <td>0.143855</td>\n",
       "    </tr>\n",
       "    <tr>\n",
       "      <th>release_year</th>\n",
       "      <td>0.161443</td>\n",
       "      <td>0.238407</td>\n",
       "      <td>0.098915</td>\n",
       "      <td>1.000000</td>\n",
       "      <td>-0.163657</td>\n",
       "    </tr>\n",
       "    <tr>\n",
       "      <th>vote_average</th>\n",
       "      <td>0.295601</td>\n",
       "      <td>-0.057118</td>\n",
       "      <td>0.143855</td>\n",
       "      <td>-0.163657</td>\n",
       "      <td>1.000000</td>\n",
       "    </tr>\n",
       "  </tbody>\n",
       "</table>\n",
       "</div>"
      ],
      "text/plain": [
       "              popularity    budget   revenue  release_year  vote_average\n",
       "popularity      1.000000  0.423575  0.569654      0.161443      0.295601\n",
       "budget          0.423575  1.000000  0.644670      0.238407     -0.057118\n",
       "revenue         0.569654  0.644670  1.000000      0.098915      0.143855\n",
       "release_year    0.161443  0.238407  0.098915      1.000000     -0.163657\n",
       "vote_average    0.295601 -0.057118  0.143855     -0.163657      1.000000"
      ]
     },
     "execution_count": 25,
     "metadata": {},
     "output_type": "execute_result"
    }
   ],
   "source": [
    "df.corr()"
   ]
  },
  {
   "cell_type": "markdown",
   "metadata": {},
   "source": [
    "We can confirm the positive correlation between budget and revenue, correlated at .73. \n",
    "\n",
    "We can see that my visual assumption was wrong that budget had a higher correlation with popularity. Budget is associated with popularity at .55 and revenue is associated with popularity at .66. "
   ]
  },
  {
   "cell_type": "markdown",
   "metadata": {},
   "source": [
    "### Research Question 2  (Replace this header name!)\n",
    "> We will look at popularity over time. Does this increase? Does vote average also increase?"
   ]
  },
  {
   "cell_type": "code",
   "execution_count": 26,
   "metadata": {
    "scrolled": true
   },
   "outputs": [
    {
     "name": "stdout",
     "output_type": "stream",
     "text": [
      "    release_year  popularity\n",
      "0           1960    2.610362\n",
      "1           1961    2.631987\n",
      "2           1962    3.170651\n",
      "3           1963    2.508235\n",
      "4           1964    3.153791\n",
      "5           1965    1.910465\n",
      "6           1966    0.670274\n",
      "7           1967    2.550704\n",
      "8           1968    3.309196\n",
      "9           1969    1.778746\n",
      "10          1970    1.936962\n",
      "11          1971    3.072555\n",
      "12          1972    0.949381\n",
      "13          1973    2.272486\n",
      "14          1974    3.264571\n",
      "15          1975    3.258151\n",
      "16          1976    2.582657\n",
      "17          1977    2.379469\n",
      "18          1978    1.697618\n",
      "19          1979    2.319520\n",
      "20          1980    2.432001\n",
      "21          1981    1.947170\n",
      "22          1982    2.900556\n",
      "23          1983    3.178818\n",
      "24          1984    2.556799\n",
      "25          1985    2.834739\n",
      "26          1986    2.485419\n",
      "27          1987    3.474728\n",
      "28          1988    2.150682\n",
      "29          1989    3.536655\n",
      "30          1990    2.679627\n",
      "31          1991    3.584406\n",
      "32          1992    2.248239\n",
      "33          1993    2.571339\n",
      "34          1994    2.536898\n",
      "35          1995    3.440238\n",
      "36          1996    3.293387\n",
      "37          1997    3.488910\n",
      "38          1998    2.993102\n",
      "39          1999    3.555720\n",
      "40          2000    3.095625\n",
      "41          2001    3.204295\n",
      "42          2002    3.628943\n",
      "43          2003    3.440519\n",
      "44          2004    3.425628\n",
      "45          2005    3.628726\n",
      "46          2006    3.206696\n",
      "47          2007    2.764535\n",
      "48          2008    3.161670\n",
      "49          2009    3.431559\n",
      "50          2010    3.560424\n",
      "51          2011    3.596188\n",
      "52          2012    3.626741\n",
      "53          2013    3.625529\n",
      "54          2014    3.582315\n",
      "55          2015    3.644541\n"
     ]
    }
   ],
   "source": [
    "grouped = df.groupby(['release_year'], as_index = False)[['popularity']].max()\n",
    "print(grouped)"
   ]
  },
  {
   "cell_type": "code",
   "execution_count": 27,
   "metadata": {
    "scrolled": true
   },
   "outputs": [
    {
     "name": "stdout",
     "output_type": "stream",
     "text": [
      "              popularity\n",
      "release_year            \n",
      "1960            2.610362\n",
      "1961            2.631987\n",
      "1962            3.170651\n",
      "1963            2.508235\n",
      "1964            3.153791\n",
      "1965            1.910465\n",
      "1966            0.670274\n",
      "1967            2.550704\n",
      "1968            3.309196\n",
      "1969            1.778746\n",
      "1970            1.936962\n",
      "1971            3.072555\n",
      "1972            0.949381\n",
      "1973            2.272486\n",
      "1974            3.264571\n",
      "1975            3.258151\n",
      "1976            2.582657\n",
      "1977            2.379469\n",
      "1978            1.697618\n",
      "1979            2.319520\n",
      "1980            2.432001\n",
      "1981            1.947170\n",
      "1982            2.900556\n",
      "1983            3.178818\n",
      "1984            2.556799\n",
      "1985            2.834739\n",
      "1986            2.485419\n",
      "1987            3.474728\n",
      "1988            2.150682\n",
      "1989            3.536655\n",
      "1990            2.679627\n",
      "1991            3.584406\n",
      "1992            2.248239\n",
      "1993            2.571339\n",
      "1994            2.536898\n",
      "1995            3.440238\n",
      "1996            3.293387\n",
      "1997            3.488910\n",
      "1998            2.993102\n",
      "1999            3.555720\n",
      "2000            3.095625\n",
      "2001            3.204295\n",
      "2002            3.628943\n",
      "2003            3.440519\n",
      "2004            3.425628\n",
      "2005            3.628726\n",
      "2006            3.206696\n",
      "2007            2.764535\n",
      "2008            3.161670\n",
      "2009            3.431559\n",
      "2010            3.560424\n",
      "2011            3.596188\n",
      "2012            3.626741\n",
      "2013            3.625529\n",
      "2014            3.582315\n",
      "2015            3.644541\n"
     ]
    }
   ],
   "source": [
    "grouped2 = df.groupby(['release_year'])[['popularity']].max()\n",
    "print(grouped2)"
   ]
  },
  {
   "cell_type": "code",
   "execution_count": 28,
   "metadata": {},
   "outputs": [
    {
     "data": {
      "text/plain": [
       "[Text(0,0.5,'Max Popularity Score'),\n",
       " Text(0.5,0,'Year Released'),\n",
       " Text(0.5,1,'Max Popularity over Time')]"
      ]
     },
     "execution_count": 28,
     "metadata": {},
     "output_type": "execute_result"
    },
    {
     "data": {
      "image/png": "[encoded data removed]",
      "text/plain": [
       "<Figure size 432x288 with 1 Axes>"
      ]
     },
     "metadata": {
      "needs_background": "light"
     },
     "output_type": "display_data"
    }
   ],
   "source": [
    "plot = grouped2.plot();\n",
    "plot.set(xlabel=\"Year Released\", ylabel=\"Max Popularity Score\", title= \"Max Popularity over Time\")"
   ]
  },
  {
   "cell_type": "markdown",
   "metadata": {},
   "source": [
    "As year increases the max popularity also increases. Here, we can see that the max popularity for the whole set occurs in 2015. "
   ]
  },
  {
   "cell_type": "code",
   "execution_count": 29,
   "metadata": {},
   "outputs": [
    {
     "name": "stdout",
     "output_type": "stream",
     "text": [
      "              vote_average\n",
      "release_year              \n",
      "1960                   8.0\n",
      "1961                   7.5\n",
      "1962                   7.7\n",
      "1963                   7.5\n",
      "1964                   7.7\n",
      "1965                   7.2\n",
      "1966                   7.5\n",
      "1967                   7.6\n",
      "1968                   7.7\n",
      "1969                   7.2\n",
      "1970                   7.3\n",
      "1971                   7.7\n",
      "1972                   7.7\n",
      "1973                   7.7\n",
      "1974                   8.1\n",
      "1975                   8.0\n",
      "1976                   7.8\n",
      "1977                   7.6\n",
      "1978                   7.5\n",
      "1979                   7.8\n",
      "1980                   7.9\n",
      "1981                   7.4\n",
      "1982                   7.5\n",
      "1983                   7.8\n",
      "1984                   8.4\n",
      "1985                   7.6\n",
      "1986                   7.6\n",
      "1987                   7.7\n",
      "1988                   7.4\n",
      "1989                   7.9\n",
      "1990                   8.0\n",
      "1991                   7.9\n",
      "1992                   7.5\n",
      "1993                   8.1\n",
      "1994                   7.3\n",
      "1995                   8.0\n",
      "1996                   7.6\n",
      "1997                   7.7\n",
      "1998                   8.0\n",
      "1999                   8.0\n",
      "2000                   7.9\n",
      "2001                   7.5\n",
      "2002                   7.9\n",
      "2003                   7.4\n",
      "2004                   7.6\n",
      "2005                   7.6\n",
      "2006                   7.8\n",
      "2007                   7.8\n",
      "2008                   7.8\n",
      "2009                   7.8\n",
      "2010                   7.8\n",
      "2011                   7.9\n",
      "2012                   7.6\n",
      "2013                   7.9\n",
      "2014                   8.0\n",
      "2015                   8.0\n"
     ]
    }
   ],
   "source": [
    "grouped3 = df.groupby(['release_year'])[['vote_average']].max()\n",
    "print(grouped3)"
   ]
  },
  {
   "cell_type": "code",
   "execution_count": 30,
   "metadata": {},
   "outputs": [
    {
     "data": {
      "text/plain": [
       "[Text(0,0.5,'Max Vote Average'),\n",
       " Text(0.5,0,'Year Released'),\n",
       " Text(0.5,1,'Max Vote Over Time')]"
      ]
     },
     "execution_count": 30,
     "metadata": {},
     "output_type": "execute_result"
    },
    {
     "data": {
      "image/png": "[encoded data removed]",
      "text/plain": [
       "<Figure size 432x288 with 1 Axes>"
      ]
     },
     "metadata": {
      "needs_background": "light"
     },
     "output_type": "display_data"
    }
   ],
   "source": [
    "plot = grouped3.plot();\n",
    "plot.set(xlabel=\"Year Released\", ylabel=\"Max Vote Average\", title= \"Max Vote Over Time\")"
   ]
  },
  {
   "cell_type": "markdown",
   "metadata": {},
   "source": [
    "Here, we see that as release year increases so does vote average. We can determine that time does have a postivie association with popularity and vote_average. However, it does not follow the same path as vote_average. This makes sense because from our correlation chart, we can see they only correlate at the .2 level.  "
   ]
  },
  {
   "cell_type": "markdown",
   "metadata": {},
   "source": [
    "<a id='conclusions'></a>\n",
    "## Conclusions\n",
    "\n",
    ">We found that revenue and budget are correlated but there is a stronger correlation between popularity and revenue. There needs to be more statistical test to determine if popularity is what directly leads to more revenue. We also found that time progression has a strong association with both popularity and vote average. However, the time association is not the same pattern for both. One limitation fo this analysis is lack of clarity on how popularity score is calculated. Currently, we cannot tell the exact relationship between popularity and vote average but could be firmer in our conclusions if we had this information. \n",
    "\n",
    "\n"
   ]
  }
 ],
 "metadata": {
  "kernelspec": {
   "display_name": "Python 3",
   "language": "python",
   "name": "python3"
  },
  "language_info": {
   "codemirror_mode": {
    "name": "ipython",
    "version": 3
   },
   "file_extension": ".py",
   "mimetype": "text/x-python",
   "name": "python",
   "nbconvert_exporter": "python",
   "pygments_lexer": "ipython3",
   "version": "3.7.0"
  }
 },
 "nbformat": 4,
 "nbformat_minor": 2
}
